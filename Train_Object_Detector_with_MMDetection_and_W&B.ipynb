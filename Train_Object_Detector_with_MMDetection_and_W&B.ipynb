{
 "cells": [
  {
   "cell_type": "markdown",
   "metadata": {},
   "source": [
    "# 💡 Train an UAV Detector with MMDetection and Weights and Biases\n"
   ]
  },
  {
   "cell_type": "code",
   "execution_count": 1,
   "metadata": {},
   "outputs": [
    {
     "name": "stderr",
     "output_type": "stream",
     "text": [
      "/home/docsun/anaconda3/envs/mmdetection/lib/python3.8/site-packages/tqdm/auto.py:21: TqdmWarning: IProgress not found. Please update jupyter and ipywidgets. See https://ipywidgets.readthedocs.io/en/stable/user_install.html\n",
      "  from .autonotebook import tqdm as notebook_tqdm\n",
      "/home/docsun/anaconda3/envs/mmdetection/lib/python3.8/site-packages/mmcv/__init__.py:20: UserWarning: On January 1, 2023, MMCV will release v2.0.0, in which it will remove components related to the training process and add a data transformation module. In addition, it will rename the package names mmcv to mmcv-lite and mmcv-full to mmcv. See https://github.com/open-mmlab/mmcv/blob/master/docs/en/compatibility.md for more details.\n",
      "  warnings.warn(\n"
     ]
    },
    {
     "name": "stdout",
     "output_type": "stream",
     "text": [
      "2.28.2\n",
      "0.16.3\n"
     ]
    }
   ],
   "source": [
    "import os\n",
    "import os.path as osp\n",
    "import torch\n",
    "import torchvision\n",
    "import numpy as np\n",
    "\n",
    "# MMDetection\n",
    "import mmdet\n",
    "print(mmdet.__version__)\n",
    "from mmdet.datasets import build_dataset\n",
    "from mmdet.models import build_detector\n",
    "from mmdet.apis import train_detector\n",
    "from mmdet.datasets.builder import DATASETS\n",
    "from mmdet.datasets.custom import CustomDataset\n",
    "from mmdet.apis import set_random_seed\n",
    "\n",
    "# MMCV\n",
    "import mmcv\n",
    "from mmcv import Config\n",
    "\n",
    "# Weights and Biases\n",
    "import wandb\n",
    "print(wandb.__version__)"
   ]
  },
  {
   "cell_type": "code",
   "execution_count": 2,
   "metadata": {},
   "outputs": [
    {
     "name": "stderr",
     "output_type": "stream",
     "text": [
      "\u001b[34m\u001b[1mwandb\u001b[0m: Currently logged in as: \u001b[33mjuliangeralddcruz\u001b[0m. Use \u001b[1m`wandb login --relogin`\u001b[0m to force relogin\n"
     ]
    },
    {
     "data": {
      "text/plain": [
       "True"
      ]
     },
     "execution_count": 2,
     "metadata": {},
     "output_type": "execute_result"
    }
   ],
   "source": [
    "wandb.login()"
   ]
  },
  {
   "cell_type": "code",
   "execution_count": 3,
   "metadata": {},
   "outputs": [],
   "source": [
    "@DATASETS.register_module()\n",
    "class UAVDataset(CustomDataset):\n",
    "\n",
    "    CLASSES = ('UAV',)\n",
    "\n",
    "    def load_annotations(self, ann_file):\n",
    "        cat2label = {k: i for i, k in enumerate(self.CLASSES)}\n",
    "        # load image list from file\n",
    "        image_list = mmcv.list_from_file(self.ann_file)\n",
    "    \n",
    "        data_infos = []\n",
    "        # convert annotations to middle format\n",
    "        for image_id in image_list:\n",
    "            filename = f'{self.img_prefix}/{image_id}.jpg'\n",
    "            image = mmcv.imread(filename)\n",
    "            height, width = image.shape[:2]\n",
    "    \n",
    "            data_info = dict(filename=f'{image_id}.jpg', width=width, height=height)\n",
    "    \n",
    "            # load annotations\n",
    "            label_prefix = self.img_prefix.replace('images', 'labels')\n",
    "            lines = mmcv.list_from_file(os.path.join(label_prefix, f'{image_id}.txt'))\n",
    "    \n",
    "            content = [line.strip().split(' ') for line in lines]\n",
    "            bbox_names = [x[0] for x in content]\n",
    "            bboxes = [[float(info) for info in x[4:8]] for x in content]\n",
    "    \n",
    "            gt_bboxes = []\n",
    "            gt_labels = []\n",
    "            gt_bboxes_ignore = []\n",
    "            gt_labels_ignore = []\n",
    "    \n",
    "            # filter 'DontCare'\n",
    "            for bbox_name, bbox in zip(bbox_names, bboxes):\n",
    "                if bbox_name in cat2label:\n",
    "                    gt_labels.append(cat2label[bbox_name])\n",
    "                    gt_bboxes.append(bbox)\n",
    "                else:\n",
    "                    gt_labels_ignore.append(-1)\n",
    "                    gt_bboxes_ignore.append(bbox)\n",
    "\n",
    "            data_anno = dict(\n",
    "                bboxes=np.array(gt_bboxes, dtype=np.float32).reshape(-1, 4),\n",
    "                labels=np.array(gt_labels, dtype=np.long),\n",
    "                bboxes_ignore=np.array(gt_bboxes_ignore,\n",
    "                                       dtype=np.float32).reshape(-1, 4),\n",
    "                labels_ignore=np.array(gt_labels_ignore, dtype=np.long))\n",
    "\n",
    "            data_info.update(ann=data_anno)\n",
    "            data_infos.append(data_info)\n",
    "\n",
    "        return data_infos"
   ]
  },
  {
   "cell_type": "markdown",
   "metadata": {},
   "source": [
    "# 🏈 Model\n",
    "\n",
    "There are over hundred pre-trained object detectors provided by MMDetection via Model Zoo. Check out the Model Zoo [documentation](https://mmdetection.readthedocs.io/en/v2.21.0/model_zoo.html) page.\n",
    "\n",
    "You can also customize the model's backbone, neck, head, ROI, and loss. More on customizing the model [here](https://mmdetection.readthedocs.io/en/latest/tutorials/customize_models.html)."
   ]
  },
  {
   "cell_type": "markdown",
   "metadata": {},
   "source": [
    "### 1️⃣ Download the model\n",
    "\n",
    "We will be using a pretrained model checkpoint to fine tune on our custom dataset. Let's download the model in the `checkpoints` directory."
   ]
  },
  {
   "cell_type": "code",
   "execution_count": 4,
   "metadata": {},
   "outputs": [
    {
     "name": "stdout",
     "output_type": "stream",
     "text": [
      "mkdir: cannot create directory ‘checkpoints’: File exists\n",
      "--2024-02-07 18:45:21--  https://download.openmmlab.com/mmdetection/v2.0/faster_rcnn/faster_rcnn_r50_caffe_fpn_mstrain_3x_coco/faster_rcnn_r50_caffe_fpn_mstrain_3x_coco_20210526_095054-1f77628b.pth\n",
      "Resolving download.openmmlab.com (download.openmmlab.com)... 192.169.122.210, 192.169.122.211, 192.169.122.212, ...\n",
      "Connecting to download.openmmlab.com (download.openmmlab.com)|192.169.122.210|:443... connected.\n",
      "HTTP request sent, awaiting response... 416 Requested Range Not Satisfiable\n",
      "\n",
      "    The file is already fully retrieved; nothing to do.\n",
      "\n"
     ]
    }
   ],
   "source": [
    "!mkdir checkpoints\n",
    "!wget -c https://download.openmmlab.com/mmdetection/v2.0/faster_rcnn/faster_rcnn_r50_caffe_fpn_mstrain_3x_coco/faster_rcnn_r50_caffe_fpn_mstrain_3x_coco_20210526_095054-1f77628b.pth \\\n",
    "      -O checkpoints/faster_rcnn_r50_caffe_fpn_mstrain_3x_coco_20210526_095054-1f77628b.pth"
   ]
  },
  {
   "cell_type": "markdown",
   "metadata": {},
   "source": [
    "# ⚾️ Configuration\n",
    "\n",
    "MMDetection relies heavily on a config system. In the cell below, we will be loading a config file and modify few of the methods as per the need of this notebook.\n",
    "\n",
    "Note that both train and test dataloaders will use the same training samples. This is not a recommended practice but for the sake of a simplified notebook, let's use it. \n",
    "\n",
    "Learn more about the MMDetection Config system [here](https://mmdetection.readthedocs.io/en/latest/tutorials/config.html)."
   ]
  },
  {
   "cell_type": "markdown",
   "metadata": {},
   "source": [
    "### 1️⃣ Load the config file"
   ]
  },
  {
   "cell_type": "code",
   "execution_count": 5,
   "metadata": {},
   "outputs": [],
   "source": [
    "cfg = Config.fromfile('mmdetection/configs/faster_rcnn/faster_rcnn_r50_caffe_fpn_mstrain_1x_coco.py')"
   ]
  },
  {
   "cell_type": "markdown",
   "metadata": {},
   "source": [
    "### 2️⃣ Modify data config"
   ]
  },
  {
   "cell_type": "code",
   "execution_count": 6,
   "metadata": {},
   "outputs": [],
   "source": [
    "# Define type and path to the images.\n",
    "cfg.dataset_type = 'UAVDataset'\n",
    "cfg.data_root = 'data/UAV_DATASET/KITTI_FORMAT'\n",
    "\n",
    "cfg.data.test.type = 'UAVDataset'\n",
    "cfg.data.test.data_root = 'data/UAV_DATASET/KITTI_FORMAT'\n",
    "cfg.data.test.ann_file = 'train.txt'\n",
    "cfg.data.test.img_prefix = 'test/images'\n",
    "\n",
    "cfg.data.train.type = 'UAVDataset'\n",
    "cfg.data.train.data_root = 'data/UAV_DATASET/KITTI_FORMAT'\n",
    "cfg.data.train.ann_file = 'train.txt'\n",
    "cfg.data.train.img_prefix = 'train/images'\n",
    "\n",
    "cfg.data.val.type = 'UAVDataset'\n",
    "cfg.data.val.data_root = 'data/UAV_DATASET/KITTI_FORMAT'\n",
    "cfg.data.val.ann_file = 'val.txt'\n",
    "cfg.data.val.img_prefix = 'val/images'"
   ]
  },
  {
   "cell_type": "markdown",
   "metadata": {},
   "source": [
    "### 3️⃣ Modify model config"
   ]
  },
  {
   "cell_type": "code",
   "execution_count": 7,
   "metadata": {},
   "outputs": [],
   "source": [
    "# The number of unique objects in the training data.\n",
    "cfg.model.roi_head.bbox_head.num_classes = 1\n",
    "# Use the pretrained model.\n",
    "cfg.load_from = 'checkpoints/faster_rcnn_r50_caffe_fpn_mstrain_3x_coco_20210526_095054-1f77628b.pth'"
   ]
  },
  {
   "cell_type": "markdown",
   "metadata": {},
   "source": [
    "### 4️⃣ Modify training config"
   ]
  },
  {
   "cell_type": "code",
   "execution_count": 8,
   "metadata": {},
   "outputs": [],
   "source": [
    "# The original learning rate (LR) is set for 8-GPU training.\n",
    "# We divide it by 8 since we only use one GPU.\n",
    "cfg.optimizer.lr = 0.02 / 8\n",
    "cfg.lr_config.warmup = None\n",
    "cfg.log_config.interval = 10\n",
    "\n",
    "# Epochs\n",
    "cfg.runner.max_epochs = 12\n",
    "\n",
    "# Set seed thus the results are more reproducible\n",
    "cfg.seed = 0\n",
    "set_random_seed(0, deterministic=False)\n",
    "cfg.gpu_ids = range(1)\n",
    "\n",
    "# ⭐️ Set the checkpoint interval.\n",
    "cfg.checkpoint_config.interval = 1\n",
    "\n",
    "# Set up working dir to save files and logs.\n",
    "cfg.work_dir = './mmdetection_logs'\n",
    "cfg.device = \"cuda\""
   ]
  },
  {
   "cell_type": "markdown",
   "metadata": {},
   "source": [
    "### 5️⃣ Modify evaluation config"
   ]
  },
  {
   "cell_type": "code",
   "execution_count": 9,
   "metadata": {},
   "outputs": [],
   "source": [
    "# Change the evaluation metric since we use customized dataset.\n",
    "cfg.evaluation.metric = 'mAP'\n",
    "\n",
    "# ⭐️ Set the evaluation interval.\n",
    "cfg.evaluation.interval = 1"
   ]
  },
  {
   "cell_type": "markdown",
   "metadata": {},
   "source": [
    "# 🎾 Define Weights and Biases Hook\n",
    "\n",
    "MMDetection comes with a dedicated Weights and Biases Hook - `MMDetWandHook`. MMCV, the parent repository, has a `WandbLoggerHook` that can be used to for basic logging. \n",
    "\n",
    "With this dedicated hook, you can:\n",
    "\n",
    "* log train and eval metrics along with system (CPU/GPU) metrics, \n",
    "* visualize the validation dataset as interactive [W&B Tables](https://docs.wandb.ai/guides/data-vis),\n",
    "* visualize the model prediction as interactive W&B Tables, and\n",
    "* save the model checkpoints as [W&B Artifacts](https://docs.wandb.ai/guides/artifacts)."
   ]
  },
  {
   "cell_type": "markdown",
   "metadata": {},
   "source": [
    "To use this hook, you can append a dict to `log_config.hooks`. The `log_config` wraps multiple logger hooks like  the `TextLoggerHook` used below.\n",
    "\n",
    "There are four important arguments in the `MMDetWandbHook` that can help you get the most out of MMDetection. \n",
    "\n",
    "- `init_kwargs`: Use this argument to in-turn pass arguments to `wandb.init`. You can use it to set the W&B project name, set the team name entity if you want to log the runs to a team account, pass the configuration, and more. Check out what all can you pass to `wandb.init` [here](https://docs.wandb.ai/ref/python/init).\n",
    "\n",
    "- `log_checkpoint`: The model checkpoints are saved at intervals determined by `checkpoint_config.interval` (starred above). If `log_checkpoint` is `True` the saved checkpoints will be saved as versioned W&B Artifact. Note that this feature is dependent on MMCV's [`CheckpointHook`](https://mmcv.readthedocs.io/en/latest/api.html#mmcv.runner.CheckpointHook).\n",
    "\n",
    "- `log_checkpoint_metadata`: If `log_checkpoint_metadata` is True, every checkpoint artifact will have a metadata associated with it. The metadata contains the evaluation metrics computed on validation data with that checkpoint along with the current epoch. If True, it also marks the checkpoint version with the best evaluation metric with a `best` alias. You can choose the best checkpoint in the W&B Artifacts UI using this.\n",
    "\n",
    "- `num_eval_images`: At every evaluation interval, the `MMDetWandbHook` logs the model prediction as interactive W&B Tables. The eval interval is determined by `evaluation.interval` (starred above). The number of samples logged is given by `num_eval_images`. The predicted bounding boxes along with the ground truth are logged at every evaluation interval. However, the validation data is logged just once. This Feature is dependent on MMCV's [`EvalHook`](https://mmcv.readthedocs.io/en/latest/api.html#mmcv.runner.EvalHook) or [`DistEvalHook`](https://mmcv.readthedocs.io/en/latest/api.html#mmcv.runner.DistEvalHook)."
   ]
  },
  {
   "cell_type": "code",
   "execution_count": 10,
   "metadata": {},
   "outputs": [],
   "source": [
    "cfg.log_config.hooks = [\n",
    "    dict(type='TextLoggerHook'),\n",
    "    dict(type='MMDetWandbHook',\n",
    "         init_kwargs={'project': 'MMDetection-UAV'},\n",
    "         interval=2,\n",
    "         log_checkpoint=True,\n",
    "         log_checkpoint_metadata=True,\n",
    "         num_eval_images=6)]"
   ]
  },
  {
   "cell_type": "markdown",
   "metadata": {},
   "source": [
    "# 🏐 Train\n",
    "\n",
    "Now that we have the dataset, pretrained model weight, and have defined the configs. Let's stitch them together to train an object detector."
   ]
  },
  {
   "cell_type": "markdown",
   "metadata": {},
   "source": [
    "### 1️⃣ Build the Dataset"
   ]
  },
  {
   "cell_type": "code",
   "execution_count": 11,
   "metadata": {},
   "outputs": [
    {
     "name": "stderr",
     "output_type": "stream",
     "text": [
      "/home/docsun/Documents/git-repo/Object-Detection-Framework/mmdetection/mmdet/datasets/custom.py:181: UserWarning: CustomDataset does not support filtering empty gt images.\n",
      "  warnings.warn(\n"
     ]
    }
   ],
   "source": [
    "# Build dataset\n",
    "datasets = [build_dataset(cfg.data.train)]"
   ]
  },
  {
   "cell_type": "markdown",
   "metadata": {},
   "source": [
    "### 2️⃣ Build the Model"
   ]
  },
  {
   "cell_type": "code",
   "execution_count": 12,
   "metadata": {},
   "outputs": [],
   "source": [
    "# Build the detector\n",
    "model = build_detector(\n",
    "    cfg.model, train_cfg=cfg.get('train_cfg'), test_cfg=cfg.get('test_cfg'))\n",
    "# Add an attribute for visualization convenience\n",
    "model.CLASSES = datasets[0].CLASSES"
   ]
  },
  {
   "cell_type": "markdown",
   "metadata": {},
   "source": [
    "### 3️⃣ Train with W&B"
   ]
  },
  {
   "cell_type": "code",
   "execution_count": 13,
   "metadata": {
    "scrolled": true
   },
   "outputs": [
    {
     "name": "stderr",
     "output_type": "stream",
     "text": [
      "2024-02-07 18:45:24,495 - mmdet - INFO - Automatic scaling of learning rate (LR) has been disabled.\n",
      "2024-02-07 18:45:24,538 - mmdet - INFO - load checkpoint from local path: checkpoints/faster_rcnn_r50_caffe_fpn_mstrain_3x_coco_20210526_095054-1f77628b.pth\n",
      "2024-02-07 18:45:24,613 - mmdet - WARNING - The model and loaded state dict do not match exactly\n",
      "\n",
      "size mismatch for roi_head.bbox_head.fc_cls.weight: copying a param with shape torch.Size([81, 1024]) from checkpoint, the shape in current model is torch.Size([2, 1024]).\n",
      "size mismatch for roi_head.bbox_head.fc_cls.bias: copying a param with shape torch.Size([81]) from checkpoint, the shape in current model is torch.Size([2]).\n",
      "size mismatch for roi_head.bbox_head.fc_reg.weight: copying a param with shape torch.Size([320, 1024]) from checkpoint, the shape in current model is torch.Size([4, 1024]).\n",
      "size mismatch for roi_head.bbox_head.fc_reg.bias: copying a param with shape torch.Size([320]) from checkpoint, the shape in current model is torch.Size([4]).\n",
      "2024-02-07 18:45:24,615 - mmdet - INFO - Start running, host: docsun@Zeus, work_dir: /home/docsun/Documents/git-repo/Object-Detection-Framework/mmdetection_logs\n",
      "2024-02-07 18:45:24,615 - mmdet - INFO - Hooks will be executed in the following order:\n",
      "before_run:\n",
      "(VERY_HIGH   ) StepLrUpdaterHook                  \n",
      "(NORMAL      ) CheckpointHook                     \n",
      "(LOW         ) EvalHook                           \n",
      "(VERY_LOW    ) TextLoggerHook                     \n",
      "(VERY_LOW    ) MMDetWandbHook                     \n",
      " -------------------- \n",
      "before_train_epoch:\n",
      "(VERY_HIGH   ) StepLrUpdaterHook                  \n",
      "(NORMAL      ) NumClassCheckHook                  \n",
      "(LOW         ) IterTimerHook                      \n",
      "(LOW         ) EvalHook                           \n",
      "(VERY_LOW    ) TextLoggerHook                     \n",
      "(VERY_LOW    ) MMDetWandbHook                     \n",
      " -------------------- \n",
      "before_train_iter:\n",
      "(VERY_HIGH   ) StepLrUpdaterHook                  \n",
      "(LOW         ) IterTimerHook                      \n",
      "(LOW         ) EvalHook                           \n",
      " -------------------- \n",
      "after_train_iter:\n",
      "(ABOVE_NORMAL) OptimizerHook                      \n",
      "(NORMAL      ) CheckpointHook                     \n",
      "(LOW         ) IterTimerHook                      \n",
      "(LOW         ) EvalHook                           \n",
      "(VERY_LOW    ) TextLoggerHook                     \n",
      "(VERY_LOW    ) MMDetWandbHook                     \n",
      " -------------------- \n",
      "after_train_epoch:\n",
      "(NORMAL      ) CheckpointHook                     \n",
      "(LOW         ) EvalHook                           \n",
      "(VERY_LOW    ) TextLoggerHook                     \n",
      "(VERY_LOW    ) MMDetWandbHook                     \n",
      " -------------------- \n",
      "before_val_epoch:\n",
      "(NORMAL      ) NumClassCheckHook                  \n",
      "(LOW         ) IterTimerHook                      \n",
      "(VERY_LOW    ) TextLoggerHook                     \n",
      "(VERY_LOW    ) MMDetWandbHook                     \n",
      " -------------------- \n",
      "before_val_iter:\n",
      "(LOW         ) IterTimerHook                      \n",
      " -------------------- \n",
      "after_val_iter:\n",
      "(LOW         ) IterTimerHook                      \n",
      " -------------------- \n",
      "after_val_epoch:\n",
      "(VERY_LOW    ) TextLoggerHook                     \n",
      "(VERY_LOW    ) MMDetWandbHook                     \n",
      " -------------------- \n",
      "after_run:\n",
      "(VERY_LOW    ) TextLoggerHook                     \n",
      "(VERY_LOW    ) MMDetWandbHook                     \n",
      " -------------------- \n",
      "2024-02-07 18:45:24,616 - mmdet - INFO - workflow: [('train', 1)], max: 12 epochs\n",
      "2024-02-07 18:45:24,616 - mmdet - INFO - Checkpoints will be saved to /home/docsun/Documents/git-repo/Object-Detection-Framework/mmdetection_logs by HardDiskBackend.\n"
     ]
    },
    {
     "data": {
      "text/html": [
       "Tracking run with wandb version 0.16.3"
      ],
      "text/plain": [
       "<IPython.core.display.HTML object>"
      ]
     },
     "metadata": {},
     "output_type": "display_data"
    },
    {
     "data": {
      "text/html": [
       "Run data is saved locally in <code>/home/docsun/Documents/git-repo/Object-Detection-Framework/wandb/run-20240207_184524-emofibfe</code>"
      ],
      "text/plain": [
       "<IPython.core.display.HTML object>"
      ]
     },
     "metadata": {},
     "output_type": "display_data"
    },
    {
     "data": {
      "text/html": [
       "Syncing run <strong><a href='https://wandb.ai/juliangeralddcruz/MMDetection-UAV/runs/emofibfe' target=\"_blank\">glowing-spaceship-1</a></strong> to <a href='https://wandb.ai/juliangeralddcruz/MMDetection-UAV' target=\"_blank\">Weights & Biases</a> (<a href='https://wandb.me/run' target=\"_blank\">docs</a>)<br/>"
      ],
      "text/plain": [
       "<IPython.core.display.HTML object>"
      ]
     },
     "metadata": {},
     "output_type": "display_data"
    },
    {
     "data": {
      "text/html": [
       " View project at <a href='https://wandb.ai/juliangeralddcruz/MMDetection-UAV' target=\"_blank\">https://wandb.ai/juliangeralddcruz/MMDetection-UAV</a>"
      ],
      "text/plain": [
       "<IPython.core.display.HTML object>"
      ]
     },
     "metadata": {},
     "output_type": "display_data"
    },
    {
     "data": {
      "text/html": [
       " View run at <a href='https://wandb.ai/juliangeralddcruz/MMDetection-UAV/runs/emofibfe' target=\"_blank\">https://wandb.ai/juliangeralddcruz/MMDetection-UAV/runs/emofibfe</a>"
      ],
      "text/plain": [
       "<IPython.core.display.HTML object>"
      ]
     },
     "metadata": {},
     "output_type": "display_data"
    },
    {
     "name": "stderr",
     "output_type": "stream",
     "text": [
      "2024-02-07 18:45:30,009 - mmdet - WARNING - No meta information found in the runner. \n",
      "\u001b[34m\u001b[1mwandb\u001b[0m: Waiting for artifact val to be committed...\n",
      "\n",
      "\u001b[34m\u001b[1mwandb\u001b[0m: Committed artifact juliangeralddcruz/MMDetection-UAV/val:v0\n",
      "\u001b[34m\u001b[1mwandb\u001b[0m:   8 of 8 files downloaded.  \n",
      "/home/docsun/anaconda3/envs/mmdetection/lib/python3.8/site-packages/torch/nn/functional.py:718: UserWarning: Named tensors and all their associated APIs are an experimental feature and subject to change. Please do not use them for anything important until they are released as stable. (Triggered internally at  /pytorch/c10/core/TensorImpl.h:1156.)\n",
      "  return torch.max_pool2d(input, kernel_size, stride, padding, dilation, ceil_mode)\n",
      "2024-02-07 18:45:38,680 - mmdet - INFO - Epoch [1][10/113]\tlr: 2.500e-03, eta: 0:07:24, time: 0.330, data_time: 0.210, memory: 2230, loss_rpn_cls: 0.0133, loss_rpn_bbox: 0.0062, loss_cls: 0.2091, acc: 92.6367, loss_bbox: 0.1543, loss: 0.3830\n",
      "2024-02-07 18:45:39,909 - mmdet - INFO - Epoch [1][20/113]\tlr: 2.500e-03, eta: 0:05:03, time: 0.123, data_time: 0.008, memory: 2231, loss_rpn_cls: 0.0061, loss_rpn_bbox: 0.0048, loss_cls: 0.0811, acc: 96.1914, loss_bbox: 0.1529, loss: 0.2449\n",
      "2024-02-07 18:45:41,192 - mmdet - INFO - Epoch [1][30/113]\tlr: 2.500e-03, eta: 0:04:16, time: 0.128, data_time: 0.007, memory: 2231, loss_rpn_cls: 0.0026, loss_rpn_bbox: 0.0065, loss_cls: 0.0611, acc: 97.1094, loss_bbox: 0.1519, loss: 0.2220\n",
      "2024-02-07 18:45:42,479 - mmdet - INFO - Epoch [1][40/113]\tlr: 2.500e-03, eta: 0:03:53, time: 0.128, data_time: 0.008, memory: 2231, loss_rpn_cls: 0.0020, loss_rpn_bbox: 0.0064, loss_cls: 0.0517, acc: 97.8320, loss_bbox: 0.1134, loss: 0.1735\n",
      "2024-02-07 18:45:43,781 - mmdet - INFO - Epoch [1][50/113]\tlr: 2.500e-03, eta: 0:03:39, time: 0.131, data_time: 0.008, memory: 2231, loss_rpn_cls: 0.0047, loss_rpn_bbox: 0.0052, loss_cls: 0.0448, acc: 98.2520, loss_bbox: 0.1093, loss: 0.1640\n",
      "2024-02-07 18:45:45,015 - mmdet - INFO - Epoch [1][60/113]\tlr: 2.500e-03, eta: 0:03:28, time: 0.123, data_time: 0.007, memory: 2231, loss_rpn_cls: 0.0030, loss_rpn_bbox: 0.0046, loss_cls: 0.0475, acc: 98.1543, loss_bbox: 0.1080, loss: 0.1631\n",
      "2024-02-07 18:45:46,255 - mmdet - INFO - Epoch [1][70/113]\tlr: 2.500e-03, eta: 0:03:19, time: 0.124, data_time: 0.008, memory: 2231, loss_rpn_cls: 0.0061, loss_rpn_bbox: 0.0048, loss_cls: 0.0474, acc: 98.3691, loss_bbox: 0.0882, loss: 0.1464\n",
      "2024-02-07 18:45:47,544 - mmdet - INFO - Epoch [1][80/113]\tlr: 2.500e-03, eta: 0:03:14, time: 0.129, data_time: 0.008, memory: 2231, loss_rpn_cls: 0.0052, loss_rpn_bbox: 0.0049, loss_cls: 0.0525, acc: 97.7930, loss_bbox: 0.0971, loss: 0.1597\n",
      "2024-02-07 18:45:48,865 - mmdet - INFO - Epoch [1][90/113]\tlr: 2.500e-03, eta: 0:03:09, time: 0.133, data_time: 0.008, memory: 2231, loss_rpn_cls: 0.0071, loss_rpn_bbox: 0.0062, loss_cls: 0.0567, acc: 98.0859, loss_bbox: 0.0808, loss: 0.1509\n",
      "2024-02-07 18:45:50,106 - mmdet - INFO - Epoch [1][100/113]\tlr: 2.500e-03, eta: 0:03:05, time: 0.124, data_time: 0.008, memory: 2231, loss_rpn_cls: 0.0016, loss_rpn_bbox: 0.0049, loss_cls: 0.0436, acc: 98.2324, loss_bbox: 0.0917, loss: 0.1418\n",
      "2024-02-07 18:45:51,405 - mmdet - INFO - Epoch [1][110/113]\tlr: 2.500e-03, eta: 0:03:01, time: 0.130, data_time: 0.007, memory: 2231, loss_rpn_cls: 0.0029, loss_rpn_bbox: 0.0043, loss_cls: 0.0416, acc: 98.3789, loss_bbox: 0.0804, loss: 0.1292\n",
      "2024-02-07 18:45:51,779 - mmdet - INFO - Saving checkpoint at 1 epochs\n"
     ]
    },
    {
     "name": "stdout",
     "output_type": "stream",
     "text": [
      "[>>>>>>>>>>>>>>>>>>>>>>>>>>>>>>>>] 40/40, 28.1 task/s, elapsed: 1s, ETA:     0s\n",
      "---------------iou_thr: 0.5---------------\n"
     ]
    },
    {
     "name": "stderr",
     "output_type": "stream",
     "text": [
      "2024-02-07 18:45:54,498 - mmdet - INFO - \n",
      "+-------+-----+------+--------+-------+\n",
      "| class | gts | dets | recall | ap    |\n",
      "+-------+-----+------+--------+-------+\n",
      "| UAV   | 40  | 119  | 0.975  | 0.973 |\n",
      "+-------+-----+------+--------+-------+\n",
      "| mAP   |     |      |        | 0.973 |\n",
      "+-------+-----+------+--------+-------+\n",
      "2024-02-07 18:45:54,535 - mmdet - INFO - Epoch(val) [1][40]\tAP50: 0.9730, mAP: 0.9731\n"
     ]
    },
    {
     "name": "stdout",
     "output_type": "stream",
     "text": [
      "\n",
      "---------------iou_thr: 0.5---------------\n"
     ]
    },
    {
     "name": "stderr",
     "output_type": "stream",
     "text": [
      "2024-02-07 18:46:00,803 - mmdet - INFO - Epoch [2][10/113]\tlr: 2.500e-03, eta: 0:03:13, time: 0.326, data_time: 0.210, memory: 2231, loss_rpn_cls: 0.0007, loss_rpn_bbox: 0.0034, loss_cls: 0.0365, acc: 98.6035, loss_bbox: 0.0769, loss: 0.1175\n",
      "2024-02-07 18:46:02,003 - mmdet - INFO - Epoch [2][20/113]\tlr: 2.500e-03, eta: 0:03:08, time: 0.120, data_time: 0.008, memory: 2231, loss_rpn_cls: 0.0013, loss_rpn_bbox: 0.0031, loss_cls: 0.0336, acc: 98.6719, loss_bbox: 0.0802, loss: 0.1182\n",
      "2024-02-07 18:46:03,220 - mmdet - INFO - Epoch [2][30/113]\tlr: 2.500e-03, eta: 0:03:04, time: 0.121, data_time: 0.008, memory: 2231, loss_rpn_cls: 0.0013, loss_rpn_bbox: 0.0059, loss_cls: 0.0365, acc: 98.5254, loss_bbox: 0.0816, loss: 0.1253\n",
      "2024-02-07 18:46:04,495 - mmdet - INFO - Epoch [2][40/113]\tlr: 2.500e-03, eta: 0:03:00, time: 0.128, data_time: 0.009, memory: 2231, loss_rpn_cls: 0.0036, loss_rpn_bbox: 0.0050, loss_cls: 0.0480, acc: 98.0664, loss_bbox: 0.0819, loss: 0.1385\n",
      "2024-02-07 18:46:05,741 - mmdet - INFO - Epoch [2][50/113]\tlr: 2.500e-03, eta: 0:02:57, time: 0.125, data_time: 0.009, memory: 2231, loss_rpn_cls: 0.0027, loss_rpn_bbox: 0.0051, loss_cls: 0.0397, acc: 98.3203, loss_bbox: 0.0713, loss: 0.1188\n",
      "2024-02-07 18:46:06,931 - mmdet - INFO - Epoch [2][60/113]\tlr: 2.500e-03, eta: 0:02:53, time: 0.118, data_time: 0.008, memory: 2231, loss_rpn_cls: 0.0012, loss_rpn_bbox: 0.0047, loss_cls: 0.0377, acc: 98.4473, loss_bbox: 0.0848, loss: 0.1284\n",
      "2024-02-07 18:46:08,194 - mmdet - INFO - Epoch [2][70/113]\tlr: 2.500e-03, eta: 0:02:50, time: 0.126, data_time: 0.009, memory: 2231, loss_rpn_cls: 0.0025, loss_rpn_bbox: 0.0048, loss_cls: 0.0421, acc: 98.1934, loss_bbox: 0.0811, loss: 0.1304\n",
      "2024-02-07 18:46:09,435 - mmdet - INFO - Epoch [2][80/113]\tlr: 2.500e-03, eta: 0:02:48, time: 0.125, data_time: 0.009, memory: 2231, loss_rpn_cls: 0.0007, loss_rpn_bbox: 0.0040, loss_cls: 0.0430, acc: 98.3301, loss_bbox: 0.0896, loss: 0.1373\n",
      "2024-02-07 18:46:10,708 - mmdet - INFO - Epoch [2][90/113]\tlr: 2.500e-03, eta: 0:02:45, time: 0.127, data_time: 0.008, memory: 2231, loss_rpn_cls: 0.0211, loss_rpn_bbox: 0.0076, loss_cls: 0.0397, acc: 98.4961, loss_bbox: 0.0748, loss: 0.1432\n",
      "2024-02-07 18:46:11,981 - mmdet - INFO - Epoch [2][100/113]\tlr: 2.500e-03, eta: 0:02:43, time: 0.128, data_time: 0.008, memory: 2231, loss_rpn_cls: 0.0049, loss_rpn_bbox: 0.0054, loss_cls: 0.0397, acc: 98.4375, loss_bbox: 0.0828, loss: 0.1327\n",
      "2024-02-07 18:46:13,203 - mmdet - INFO - Epoch [2][110/113]\tlr: 2.500e-03, eta: 0:02:41, time: 0.123, data_time: 0.008, memory: 2231, loss_rpn_cls: 0.0018, loss_rpn_bbox: 0.0039, loss_cls: 0.0432, acc: 98.3398, loss_bbox: 0.0859, loss: 0.1348\n",
      "2024-02-07 18:46:13,581 - mmdet - INFO - Saving checkpoint at 2 epochs\n"
     ]
    },
    {
     "name": "stdout",
     "output_type": "stream",
     "text": [
      "[>>>>>>>>>>>>>>>>>>>>>>>>>>>>>>>>] 40/40, 28.2 task/s, elapsed: 1s, ETA:     0s\n",
      "---------------iou_thr: 0.5---------------\n"
     ]
    },
    {
     "name": "stderr",
     "output_type": "stream",
     "text": [
      "2024-02-07 18:46:16,267 - mmdet - INFO - \n",
      "+-------+-----+------+--------+-------+\n",
      "| class | gts | dets | recall | ap    |\n",
      "+-------+-----+------+--------+-------+\n",
      "| UAV   | 40  | 121  | 0.975  | 0.973 |\n",
      "+-------+-----+------+--------+-------+\n",
      "| mAP   |     |      |        | 0.973 |\n",
      "+-------+-----+------+--------+-------+\n",
      "2024-02-07 18:46:16,303 - mmdet - INFO - Epoch(val) [2][40]\tAP50: 0.9730, mAP: 0.9731\n"
     ]
    },
    {
     "name": "stdout",
     "output_type": "stream",
     "text": [
      "\n",
      "---------------iou_thr: 0.5---------------\n"
     ]
    },
    {
     "name": "stderr",
     "output_type": "stream",
     "text": [
      "2024-02-07 18:46:22,737 - mmdet - INFO - Epoch [3][10/113]\tlr: 2.500e-03, eta: 0:02:46, time: 0.337, data_time: 0.210, memory: 2231, loss_rpn_cls: 0.0016, loss_rpn_bbox: 0.0046, loss_cls: 0.0439, acc: 98.1543, loss_bbox: 0.0849, loss: 0.1350\n",
      "2024-02-07 18:46:24,006 - mmdet - INFO - Epoch [3][20/113]\tlr: 2.500e-03, eta: 0:02:43, time: 0.127, data_time: 0.008, memory: 2231, loss_rpn_cls: 0.0022, loss_rpn_bbox: 0.0040, loss_cls: 0.0369, acc: 98.4375, loss_bbox: 0.0815, loss: 0.1246\n",
      "2024-02-07 18:46:25,310 - mmdet - INFO - Epoch [3][30/113]\tlr: 2.500e-03, eta: 0:02:41, time: 0.129, data_time: 0.007, memory: 2231, loss_rpn_cls: 0.0018, loss_rpn_bbox: 0.0034, loss_cls: 0.0368, acc: 98.5742, loss_bbox: 0.0684, loss: 0.1105\n",
      "2024-02-07 18:46:26,587 - mmdet - INFO - Epoch [3][40/113]\tlr: 2.500e-03, eta: 0:02:39, time: 0.128, data_time: 0.009, memory: 2231, loss_rpn_cls: 0.0019, loss_rpn_bbox: 0.0030, loss_cls: 0.0391, acc: 98.3984, loss_bbox: 0.0876, loss: 0.1316\n",
      "2024-02-07 18:46:27,938 - mmdet - INFO - Epoch [3][50/113]\tlr: 2.500e-03, eta: 0:02:37, time: 0.135, data_time: 0.008, memory: 2231, loss_rpn_cls: 0.0005, loss_rpn_bbox: 0.0032, loss_cls: 0.0287, acc: 98.8965, loss_bbox: 0.0744, loss: 0.1067\n",
      "2024-02-07 18:46:29,156 - mmdet - INFO - Epoch [3][60/113]\tlr: 2.500e-03, eta: 0:02:35, time: 0.122, data_time: 0.008, memory: 2231, loss_rpn_cls: 0.0007, loss_rpn_bbox: 0.0038, loss_cls: 0.0313, acc: 98.6621, loss_bbox: 0.0713, loss: 0.1070\n",
      "2024-02-07 18:46:30,485 - mmdet - INFO - Epoch [3][70/113]\tlr: 2.500e-03, eta: 0:02:33, time: 0.133, data_time: 0.008, memory: 2231, loss_rpn_cls: 0.0038, loss_rpn_bbox: 0.0047, loss_cls: 0.0569, acc: 97.5977, loss_bbox: 0.1089, loss: 0.1742\n",
      "2024-02-07 18:46:31,762 - mmdet - INFO - Epoch [3][80/113]\tlr: 2.500e-03, eta: 0:02:31, time: 0.127, data_time: 0.008, memory: 2231, loss_rpn_cls: 0.0022, loss_rpn_bbox: 0.0050, loss_cls: 0.0334, acc: 98.5156, loss_bbox: 0.0807, loss: 0.1213\n",
      "2024-02-07 18:46:33,049 - mmdet - INFO - Epoch [3][90/113]\tlr: 2.500e-03, eta: 0:02:29, time: 0.129, data_time: 0.009, memory: 2231, loss_rpn_cls: 0.0013, loss_rpn_bbox: 0.0035, loss_cls: 0.0355, acc: 98.5352, loss_bbox: 0.0821, loss: 0.1224\n",
      "2024-02-07 18:46:34,324 - mmdet - INFO - Epoch [3][100/113]\tlr: 2.500e-03, eta: 0:02:27, time: 0.128, data_time: 0.008, memory: 2231, loss_rpn_cls: 0.0013, loss_rpn_bbox: 0.0042, loss_cls: 0.0281, acc: 98.9551, loss_bbox: 0.0670, loss: 0.1006\n",
      "2024-02-07 18:46:35,606 - mmdet - INFO - Epoch [3][110/113]\tlr: 2.500e-03, eta: 0:02:25, time: 0.129, data_time: 0.008, memory: 2231, loss_rpn_cls: 0.0014, loss_rpn_bbox: 0.0056, loss_cls: 0.0292, acc: 98.7500, loss_bbox: 0.0695, loss: 0.1057\n",
      "2024-02-07 18:46:35,976 - mmdet - INFO - Saving checkpoint at 3 epochs\n"
     ]
    },
    {
     "name": "stdout",
     "output_type": "stream",
     "text": [
      "[>>>>>>>>>>>>>>>>>>>>>>>>>>>>>>>>] 40/40, 28.1 task/s, elapsed: 1s, ETA:     0s\n",
      "---------------iou_thr: 0.5---------------\n"
     ]
    },
    {
     "name": "stderr",
     "output_type": "stream",
     "text": [
      "2024-02-07 18:46:38,666 - mmdet - INFO - \n",
      "+-------+-----+------+--------+-------+\n",
      "| class | gts | dets | recall | ap    |\n",
      "+-------+-----+------+--------+-------+\n",
      "| UAV   | 40  | 55   | 0.975  | 0.970 |\n",
      "+-------+-----+------+--------+-------+\n",
      "| mAP   |     |      |        | 0.970 |\n",
      "+-------+-----+------+--------+-------+\n",
      "2024-02-07 18:46:38,708 - mmdet - INFO - Epoch(val) [3][40]\tAP50: 0.9700, mAP: 0.9700\n"
     ]
    },
    {
     "name": "stdout",
     "output_type": "stream",
     "text": [
      "\n",
      "---------------iou_thr: 0.5---------------\n"
     ]
    },
    {
     "name": "stderr",
     "output_type": "stream",
     "text": [
      "2024-02-07 18:46:44,202 - mmdet - INFO - Epoch [4][10/113]\tlr: 2.500e-03, eta: 0:02:27, time: 0.329, data_time: 0.210, memory: 2231, loss_rpn_cls: 0.0019, loss_rpn_bbox: 0.0040, loss_cls: 0.0418, acc: 98.3105, loss_bbox: 0.0774, loss: 0.1252\n",
      "2024-02-07 18:46:45,397 - mmdet - INFO - Epoch [4][20/113]\tlr: 2.500e-03, eta: 0:02:25, time: 0.119, data_time: 0.008, memory: 2231, loss_rpn_cls: 0.0018, loss_rpn_bbox: 0.0038, loss_cls: 0.0322, acc: 98.6328, loss_bbox: 0.0646, loss: 0.1023\n",
      "2024-02-07 18:46:46,652 - mmdet - INFO - Epoch [4][30/113]\tlr: 2.500e-03, eta: 0:02:23, time: 0.125, data_time: 0.008, memory: 2231, loss_rpn_cls: 0.0009, loss_rpn_bbox: 0.0040, loss_cls: 0.0270, acc: 98.9844, loss_bbox: 0.0653, loss: 0.0973\n",
      "2024-02-07 18:46:47,930 - mmdet - INFO - Epoch [4][40/113]\tlr: 2.500e-03, eta: 0:02:21, time: 0.127, data_time: 0.008, memory: 2231, loss_rpn_cls: 0.0008, loss_rpn_bbox: 0.0034, loss_cls: 0.0276, acc: 98.7988, loss_bbox: 0.0661, loss: 0.0979\n",
      "2024-02-07 18:46:49,191 - mmdet - INFO - Epoch [4][50/113]\tlr: 2.500e-03, eta: 0:02:19, time: 0.127, data_time: 0.009, memory: 2231, loss_rpn_cls: 0.0003, loss_rpn_bbox: 0.0036, loss_cls: 0.0326, acc: 98.6035, loss_bbox: 0.0782, loss: 0.1147\n",
      "2024-02-07 18:46:50,396 - mmdet - INFO - Epoch [4][60/113]\tlr: 2.500e-03, eta: 0:02:17, time: 0.120, data_time: 0.008, memory: 2231, loss_rpn_cls: 0.0005, loss_rpn_bbox: 0.0034, loss_cls: 0.0363, acc: 98.3789, loss_bbox: 0.0758, loss: 0.1160\n",
      "2024-02-07 18:46:51,656 - mmdet - INFO - Epoch [4][70/113]\tlr: 2.500e-03, eta: 0:02:15, time: 0.126, data_time: 0.009, memory: 2231, loss_rpn_cls: 0.0005, loss_rpn_bbox: 0.0032, loss_cls: 0.0296, acc: 98.5938, loss_bbox: 0.0705, loss: 0.1038\n",
      "2024-02-07 18:46:52,900 - mmdet - INFO - Epoch [4][80/113]\tlr: 2.500e-03, eta: 0:02:13, time: 0.125, data_time: 0.009, memory: 2231, loss_rpn_cls: 0.0016, loss_rpn_bbox: 0.0034, loss_cls: 0.0359, acc: 98.3789, loss_bbox: 0.0793, loss: 0.1202\n",
      "2024-02-07 18:46:54,196 - mmdet - INFO - Epoch [4][90/113]\tlr: 2.500e-03, eta: 0:02:12, time: 0.130, data_time: 0.009, memory: 2231, loss_rpn_cls: 0.0005, loss_rpn_bbox: 0.0043, loss_cls: 0.0290, acc: 98.8477, loss_bbox: 0.0716, loss: 0.1054\n",
      "2024-02-07 18:46:55,444 - mmdet - INFO - Epoch [4][100/113]\tlr: 2.500e-03, eta: 0:02:10, time: 0.125, data_time: 0.008, memory: 2231, loss_rpn_cls: 0.0014, loss_rpn_bbox: 0.0048, loss_cls: 0.0360, acc: 98.4082, loss_bbox: 0.0681, loss: 0.1102\n",
      "2024-02-07 18:46:56,679 - mmdet - INFO - Epoch [4][110/113]\tlr: 2.500e-03, eta: 0:02:08, time: 0.124, data_time: 0.008, memory: 2231, loss_rpn_cls: 0.0013, loss_rpn_bbox: 0.0037, loss_cls: 0.0369, acc: 98.3789, loss_bbox: 0.0836, loss: 0.1255\n",
      "2024-02-07 18:46:57,041 - mmdet - INFO - Saving checkpoint at 4 epochs\n"
     ]
    },
    {
     "name": "stdout",
     "output_type": "stream",
     "text": [
      "[>>>>>>>>>>>>>>>>>>>>>>>>>>>>>>>>] 40/40, 28.3 task/s, elapsed: 1s, ETA:     0s\n",
      "---------------iou_thr: 0.5---------------\n"
     ]
    },
    {
     "name": "stderr",
     "output_type": "stream",
     "text": [
      "2024-02-07 18:46:59,732 - mmdet - INFO - \n",
      "+-------+-----+------+--------+-------+\n",
      "| class | gts | dets | recall | ap    |\n",
      "+-------+-----+------+--------+-------+\n",
      "| UAV   | 40  | 66   | 0.975  | 0.971 |\n",
      "+-------+-----+------+--------+-------+\n",
      "| mAP   |     |      |        | 0.971 |\n",
      "+-------+-----+------+--------+-------+\n",
      "2024-02-07 18:46:59,785 - mmdet - INFO - Epoch(val) [4][40]\tAP50: 0.9710, mAP: 0.9706\n"
     ]
    },
    {
     "name": "stdout",
     "output_type": "stream",
     "text": [
      "\n",
      "---------------iou_thr: 0.5---------------\n"
     ]
    },
    {
     "name": "stderr",
     "output_type": "stream",
     "text": [
      "2024-02-07 18:47:04,897 - mmdet - INFO - Epoch [5][10/113]\tlr: 2.500e-03, eta: 0:02:09, time: 0.327, data_time: 0.210, memory: 2231, loss_rpn_cls: 0.0016, loss_rpn_bbox: 0.0045, loss_cls: 0.0327, acc: 98.7109, loss_bbox: 0.0731, loss: 0.1118\n",
      "2024-02-07 18:47:06,107 - mmdet - INFO - Epoch [5][20/113]\tlr: 2.500e-03, eta: 0:02:07, time: 0.121, data_time: 0.008, memory: 2231, loss_rpn_cls: 0.0009, loss_rpn_bbox: 0.0042, loss_cls: 0.0274, acc: 98.9648, loss_bbox: 0.0627, loss: 0.0953\n",
      "2024-02-07 18:47:07,351 - mmdet - INFO - Epoch [5][30/113]\tlr: 2.500e-03, eta: 0:02:05, time: 0.124, data_time: 0.007, memory: 2231, loss_rpn_cls: 0.0018, loss_rpn_bbox: 0.0036, loss_cls: 0.0296, acc: 98.8379, loss_bbox: 0.0670, loss: 0.1021\n",
      "2024-02-07 18:47:08,624 - mmdet - INFO - Epoch [5][40/113]\tlr: 2.500e-03, eta: 0:02:04, time: 0.127, data_time: 0.008, memory: 2231, loss_rpn_cls: 0.0015, loss_rpn_bbox: 0.0044, loss_cls: 0.0367, acc: 98.3984, loss_bbox: 0.0691, loss: 0.1117\n",
      "2024-02-07 18:47:09,929 - mmdet - INFO - Epoch [5][50/113]\tlr: 2.500e-03, eta: 0:02:02, time: 0.131, data_time: 0.009, memory: 2231, loss_rpn_cls: 0.0011, loss_rpn_bbox: 0.0038, loss_cls: 0.0303, acc: 98.7402, loss_bbox: 0.0661, loss: 0.1013\n",
      "2024-02-07 18:47:11,191 - mmdet - INFO - Epoch [5][60/113]\tlr: 2.500e-03, eta: 0:02:00, time: 0.126, data_time: 0.008, memory: 2231, loss_rpn_cls: 0.0002, loss_rpn_bbox: 0.0029, loss_cls: 0.0289, acc: 98.7695, loss_bbox: 0.0592, loss: 0.0913\n",
      "2024-02-07 18:47:12,481 - mmdet - INFO - Epoch [5][70/113]\tlr: 2.500e-03, eta: 0:01:59, time: 0.129, data_time: 0.008, memory: 2231, loss_rpn_cls: 0.0014, loss_rpn_bbox: 0.0033, loss_cls: 0.0322, acc: 98.8672, loss_bbox: 0.0635, loss: 0.1004\n",
      "2024-02-07 18:47:13,747 - mmdet - INFO - Epoch [5][80/113]\tlr: 2.500e-03, eta: 0:01:57, time: 0.127, data_time: 0.009, memory: 2231, loss_rpn_cls: 0.0003, loss_rpn_bbox: 0.0043, loss_cls: 0.0288, acc: 98.8086, loss_bbox: 0.0696, loss: 0.1030\n",
      "2024-02-07 18:47:15,046 - mmdet - INFO - Epoch [5][90/113]\tlr: 2.500e-03, eta: 0:01:55, time: 0.131, data_time: 0.009, memory: 2231, loss_rpn_cls: 0.0006, loss_rpn_bbox: 0.0046, loss_cls: 0.0349, acc: 98.4766, loss_bbox: 0.0763, loss: 0.1163\n",
      "2024-02-07 18:47:16,314 - mmdet - INFO - Epoch [5][100/113]\tlr: 2.500e-03, eta: 0:01:54, time: 0.127, data_time: 0.008, memory: 2231, loss_rpn_cls: 0.0012, loss_rpn_bbox: 0.0043, loss_cls: 0.0350, acc: 98.6035, loss_bbox: 0.0722, loss: 0.1127\n",
      "2024-02-07 18:47:17,557 - mmdet - INFO - Epoch [5][110/113]\tlr: 2.500e-03, eta: 0:01:52, time: 0.125, data_time: 0.008, memory: 2231, loss_rpn_cls: 0.0011, loss_rpn_bbox: 0.0056, loss_cls: 0.0313, acc: 98.6621, loss_bbox: 0.0687, loss: 0.1067\n",
      "2024-02-07 18:47:17,921 - mmdet - INFO - Saving checkpoint at 5 epochs\n"
     ]
    },
    {
     "name": "stdout",
     "output_type": "stream",
     "text": [
      "[>>>>>>>>>>>>>>>>>>>>>>>>>>>>>>>>] 40/40, 28.1 task/s, elapsed: 1s, ETA:     0s\n",
      "---------------iou_thr: 0.5---------------\n"
     ]
    },
    {
     "name": "stderr",
     "output_type": "stream",
     "text": [
      "2024-02-07 18:47:20,606 - mmdet - INFO - \n",
      "+-------+-----+------+--------+-------+\n",
      "| class | gts | dets | recall | ap    |\n",
      "+-------+-----+------+--------+-------+\n",
      "| UAV   | 40  | 68   | 0.975  | 0.973 |\n",
      "+-------+-----+------+--------+-------+\n",
      "| mAP   |     |      |        | 0.973 |\n",
      "+-------+-----+------+--------+-------+\n",
      "2024-02-07 18:47:20,642 - mmdet - INFO - Epoch(val) [5][40]\tAP50: 0.9730, mAP: 0.9731\n"
     ]
    },
    {
     "name": "stdout",
     "output_type": "stream",
     "text": [
      "\n",
      "---------------iou_thr: 0.5---------------\n"
     ]
    },
    {
     "name": "stderr",
     "output_type": "stream",
     "text": [
      "2024-02-07 18:47:25,770 - mmdet - INFO - Epoch [6][10/113]\tlr: 2.500e-03, eta: 0:01:52, time: 0.326, data_time: 0.210, memory: 2231, loss_rpn_cls: 0.0004, loss_rpn_bbox: 0.0038, loss_cls: 0.0325, acc: 98.6426, loss_bbox: 0.0672, loss: 0.1039\n",
      "2024-02-07 18:47:26,965 - mmdet - INFO - Epoch [6][20/113]\tlr: 2.500e-03, eta: 0:01:50, time: 0.119, data_time: 0.008, memory: 2231, loss_rpn_cls: 0.0002, loss_rpn_bbox: 0.0027, loss_cls: 0.0292, acc: 98.8281, loss_bbox: 0.0720, loss: 0.1041\n",
      "2024-02-07 18:47:28,232 - mmdet - INFO - Epoch [6][30/113]\tlr: 2.500e-03, eta: 0:01:49, time: 0.126, data_time: 0.008, memory: 2231, loss_rpn_cls: 0.0004, loss_rpn_bbox: 0.0045, loss_cls: 0.0293, acc: 98.7891, loss_bbox: 0.0674, loss: 0.1016\n",
      "2024-02-07 18:47:29,510 - mmdet - INFO - Epoch [6][40/113]\tlr: 2.500e-03, eta: 0:01:47, time: 0.128, data_time: 0.009, memory: 2231, loss_rpn_cls: 0.0006, loss_rpn_bbox: 0.0038, loss_cls: 0.0343, acc: 98.6230, loss_bbox: 0.0700, loss: 0.1086\n",
      "2024-02-07 18:47:30,794 - mmdet - INFO - Epoch [6][50/113]\tlr: 2.500e-03, eta: 0:01:45, time: 0.129, data_time: 0.008, memory: 2231, loss_rpn_cls: 0.0008, loss_rpn_bbox: 0.0036, loss_cls: 0.0292, acc: 98.8281, loss_bbox: 0.0597, loss: 0.0933\n",
      "2024-02-07 18:47:32,019 - mmdet - INFO - Epoch [6][60/113]\tlr: 2.500e-03, eta: 0:01:44, time: 0.122, data_time: 0.008, memory: 2231, loss_rpn_cls: 0.0009, loss_rpn_bbox: 0.0035, loss_cls: 0.0294, acc: 98.9844, loss_bbox: 0.0603, loss: 0.0941\n",
      "2024-02-07 18:47:33,289 - mmdet - INFO - Epoch [6][70/113]\tlr: 2.500e-03, eta: 0:01:42, time: 0.127, data_time: 0.008, memory: 2231, loss_rpn_cls: 0.0010, loss_rpn_bbox: 0.0032, loss_cls: 0.0257, acc: 99.0234, loss_bbox: 0.0559, loss: 0.0858\n",
      "2024-02-07 18:47:34,538 - mmdet - INFO - Epoch [6][80/113]\tlr: 2.500e-03, eta: 0:01:41, time: 0.125, data_time: 0.009, memory: 2231, loss_rpn_cls: 0.0011, loss_rpn_bbox: 0.0032, loss_cls: 0.0321, acc: 98.6035, loss_bbox: 0.0696, loss: 0.1061\n",
      "2024-02-07 18:47:35,811 - mmdet - INFO - Epoch [6][90/113]\tlr: 2.500e-03, eta: 0:01:39, time: 0.128, data_time: 0.009, memory: 2231, loss_rpn_cls: 0.0038, loss_rpn_bbox: 0.0028, loss_cls: 0.0328, acc: 98.6035, loss_bbox: 0.0791, loss: 0.1185\n",
      "2024-02-07 18:47:37,070 - mmdet - INFO - Epoch [6][100/113]\tlr: 2.500e-03, eta: 0:01:37, time: 0.126, data_time: 0.008, memory: 2231, loss_rpn_cls: 0.0006, loss_rpn_bbox: 0.0023, loss_cls: 0.0237, acc: 98.9844, loss_bbox: 0.0598, loss: 0.0864\n",
      "2024-02-07 18:47:38,302 - mmdet - INFO - Epoch [6][110/113]\tlr: 2.500e-03, eta: 0:01:36, time: 0.124, data_time: 0.008, memory: 2231, loss_rpn_cls: 0.0008, loss_rpn_bbox: 0.0036, loss_cls: 0.0332, acc: 98.6328, loss_bbox: 0.0658, loss: 0.1034\n",
      "2024-02-07 18:47:38,665 - mmdet - INFO - Saving checkpoint at 6 epochs\n"
     ]
    },
    {
     "name": "stdout",
     "output_type": "stream",
     "text": [
      "[>>>>>>>>>>>>>>>>>>>>>>>>>>>>>>>>] 40/40, 28.4 task/s, elapsed: 1s, ETA:     0s\n",
      "---------------iou_thr: 0.5---------------\n"
     ]
    },
    {
     "name": "stderr",
     "output_type": "stream",
     "text": [
      "2024-02-07 18:47:41,531 - mmdet - INFO - \n",
      "+-------+-----+------+--------+-------+\n",
      "| class | gts | dets | recall | ap    |\n",
      "+-------+-----+------+--------+-------+\n",
      "| UAV   | 40  | 58   | 0.975  | 0.973 |\n",
      "+-------+-----+------+--------+-------+\n",
      "| mAP   |     |      |        | 0.973 |\n",
      "+-------+-----+------+--------+-------+\n",
      "2024-02-07 18:47:41,567 - mmdet - INFO - Epoch(val) [6][40]\tAP50: 0.9730, mAP: 0.9725\n"
     ]
    },
    {
     "name": "stdout",
     "output_type": "stream",
     "text": [
      "\n",
      "---------------iou_thr: 0.5---------------\n"
     ]
    },
    {
     "name": "stderr",
     "output_type": "stream",
     "text": [
      "2024-02-07 18:47:47,212 - mmdet - INFO - Epoch [7][10/113]\tlr: 2.500e-03, eta: 0:01:35, time: 0.328, data_time: 0.210, memory: 2231, loss_rpn_cls: 0.0003, loss_rpn_bbox: 0.0030, loss_cls: 0.0218, acc: 99.0723, loss_bbox: 0.0564, loss: 0.0815\n",
      "2024-02-07 18:47:48,422 - mmdet - INFO - Epoch [7][20/113]\tlr: 2.500e-03, eta: 0:01:34, time: 0.121, data_time: 0.008, memory: 2231, loss_rpn_cls: 0.0004, loss_rpn_bbox: 0.0025, loss_cls: 0.0286, acc: 98.9258, loss_bbox: 0.0686, loss: 0.1001\n",
      "2024-02-07 18:47:49,664 - mmdet - INFO - Epoch [7][30/113]\tlr: 2.500e-03, eta: 0:01:32, time: 0.124, data_time: 0.008, memory: 2231, loss_rpn_cls: 0.0012, loss_rpn_bbox: 0.0024, loss_cls: 0.0257, acc: 99.0820, loss_bbox: 0.0535, loss: 0.0828\n",
      "2024-02-07 18:47:50,934 - mmdet - INFO - Epoch [7][40/113]\tlr: 2.500e-03, eta: 0:01:31, time: 0.127, data_time: 0.008, memory: 2231, loss_rpn_cls: 0.0004, loss_rpn_bbox: 0.0026, loss_cls: 0.0269, acc: 98.9160, loss_bbox: 0.0563, loss: 0.0863\n",
      "2024-02-07 18:47:52,205 - mmdet - INFO - Epoch [7][50/113]\tlr: 2.500e-03, eta: 0:01:29, time: 0.128, data_time: 0.008, memory: 2231, loss_rpn_cls: 0.0007, loss_rpn_bbox: 0.0034, loss_cls: 0.0282, acc: 98.8574, loss_bbox: 0.0679, loss: 0.1001\n",
      "2024-02-07 18:47:53,405 - mmdet - INFO - Epoch [7][60/113]\tlr: 2.500e-03, eta: 0:01:27, time: 0.119, data_time: 0.008, memory: 2231, loss_rpn_cls: 0.0008, loss_rpn_bbox: 0.0033, loss_cls: 0.0258, acc: 98.8867, loss_bbox: 0.0647, loss: 0.0947\n",
      "2024-02-07 18:47:54,683 - mmdet - INFO - Epoch [7][70/113]\tlr: 2.500e-03, eta: 0:01:26, time: 0.128, data_time: 0.009, memory: 2231, loss_rpn_cls: 0.0003, loss_rpn_bbox: 0.0033, loss_cls: 0.0253, acc: 98.9941, loss_bbox: 0.0511, loss: 0.0801\n",
      "2024-02-07 18:47:55,921 - mmdet - INFO - Epoch [7][80/113]\tlr: 2.500e-03, eta: 0:01:24, time: 0.124, data_time: 0.008, memory: 2231, loss_rpn_cls: 0.0023, loss_rpn_bbox: 0.0031, loss_cls: 0.0325, acc: 98.6328, loss_bbox: 0.0678, loss: 0.1057\n",
      "2024-02-07 18:47:57,199 - mmdet - INFO - Epoch [7][90/113]\tlr: 2.500e-03, eta: 0:01:23, time: 0.128, data_time: 0.009, memory: 2231, loss_rpn_cls: 0.0005, loss_rpn_bbox: 0.0030, loss_cls: 0.0282, acc: 98.6719, loss_bbox: 0.0630, loss: 0.0948\n",
      "2024-02-07 18:47:58,464 - mmdet - INFO - Epoch [7][100/113]\tlr: 2.500e-03, eta: 0:01:21, time: 0.127, data_time: 0.008, memory: 2231, loss_rpn_cls: 0.0008, loss_rpn_bbox: 0.0043, loss_cls: 0.0321, acc: 98.7012, loss_bbox: 0.0688, loss: 0.1061\n",
      "2024-02-07 18:47:59,730 - mmdet - INFO - Epoch [7][110/113]\tlr: 2.500e-03, eta: 0:01:20, time: 0.128, data_time: 0.008, memory: 2231, loss_rpn_cls: 0.0003, loss_rpn_bbox: 0.0033, loss_cls: 0.0289, acc: 98.7500, loss_bbox: 0.0717, loss: 0.1043\n",
      "2024-02-07 18:48:00,101 - mmdet - INFO - Saving checkpoint at 7 epochs\n"
     ]
    },
    {
     "name": "stdout",
     "output_type": "stream",
     "text": [
      "[>>>>>>>>>>>>>>>>>>>>>>>>>>>>>>>>] 40/40, 28.0 task/s, elapsed: 1s, ETA:     0s\n",
      "---------------iou_thr: 0.5---------------\n"
     ]
    },
    {
     "name": "stderr",
     "output_type": "stream",
     "text": [
      "2024-02-07 18:48:02,787 - mmdet - INFO - \n",
      "+-------+-----+------+--------+-------+\n",
      "| class | gts | dets | recall | ap    |\n",
      "+-------+-----+------+--------+-------+\n",
      "| UAV   | 40  | 55   | 0.975  | 0.971 |\n",
      "+-------+-----+------+--------+-------+\n",
      "| mAP   |     |      |        | 0.971 |\n",
      "+-------+-----+------+--------+-------+\n",
      "2024-02-07 18:48:02,826 - mmdet - INFO - Epoch(val) [7][40]\tAP50: 0.9710, mAP: 0.9712\n"
     ]
    },
    {
     "name": "stdout",
     "output_type": "stream",
     "text": [
      "\n",
      "---------------iou_thr: 0.5---------------\n"
     ]
    },
    {
     "name": "stderr",
     "output_type": "stream",
     "text": [
      "2024-02-07 18:48:08,737 - mmdet - INFO - Epoch [8][10/113]\tlr: 2.500e-03, eta: 0:01:19, time: 0.328, data_time: 0.210, memory: 2231, loss_rpn_cls: 0.0004, loss_rpn_bbox: 0.0029, loss_cls: 0.0250, acc: 99.0234, loss_bbox: 0.0545, loss: 0.0828\n",
      "2024-02-07 18:48:09,964 - mmdet - INFO - Epoch [8][20/113]\tlr: 2.500e-03, eta: 0:01:17, time: 0.122, data_time: 0.008, memory: 2231, loss_rpn_cls: 0.0004, loss_rpn_bbox: 0.0027, loss_cls: 0.0291, acc: 98.7695, loss_bbox: 0.0526, loss: 0.0847\n",
      "2024-02-07 18:48:11,212 - mmdet - INFO - Epoch [8][30/113]\tlr: 2.500e-03, eta: 0:01:16, time: 0.124, data_time: 0.008, memory: 2231, loss_rpn_cls: 0.0012, loss_rpn_bbox: 0.0039, loss_cls: 0.0310, acc: 98.5645, loss_bbox: 0.0703, loss: 0.1065\n",
      "2024-02-07 18:48:12,497 - mmdet - INFO - Epoch [8][40/113]\tlr: 2.500e-03, eta: 0:01:14, time: 0.129, data_time: 0.008, memory: 2231, loss_rpn_cls: 0.0007, loss_rpn_bbox: 0.0039, loss_cls: 0.0232, acc: 99.0723, loss_bbox: 0.0610, loss: 0.0888\n",
      "2024-02-07 18:48:13,752 - mmdet - INFO - Epoch [8][50/113]\tlr: 2.500e-03, eta: 0:01:13, time: 0.126, data_time: 0.008, memory: 2231, loss_rpn_cls: 0.0001, loss_rpn_bbox: 0.0028, loss_cls: 0.0253, acc: 99.0723, loss_bbox: 0.0568, loss: 0.0850\n",
      "2024-02-07 18:48:14,988 - mmdet - INFO - Epoch [8][60/113]\tlr: 2.500e-03, eta: 0:01:11, time: 0.123, data_time: 0.008, memory: 2231, loss_rpn_cls: 0.0006, loss_rpn_bbox: 0.0047, loss_cls: 0.0252, acc: 98.9062, loss_bbox: 0.0592, loss: 0.0897\n",
      "2024-02-07 18:48:16,273 - mmdet - INFO - Epoch [8][70/113]\tlr: 2.500e-03, eta: 0:01:10, time: 0.129, data_time: 0.009, memory: 2231, loss_rpn_cls: 0.0004, loss_rpn_bbox: 0.0033, loss_cls: 0.0270, acc: 98.8770, loss_bbox: 0.0537, loss: 0.0845\n",
      "2024-02-07 18:48:17,521 - mmdet - INFO - Epoch [8][80/113]\tlr: 2.500e-03, eta: 0:01:08, time: 0.125, data_time: 0.009, memory: 2231, loss_rpn_cls: 0.0012, loss_rpn_bbox: 0.0037, loss_cls: 0.0347, acc: 98.5645, loss_bbox: 0.0805, loss: 0.1201\n",
      "2024-02-07 18:48:18,820 - mmdet - INFO - Epoch [8][90/113]\tlr: 2.500e-03, eta: 0:01:07, time: 0.130, data_time: 0.009, memory: 2231, loss_rpn_cls: 0.0004, loss_rpn_bbox: 0.0039, loss_cls: 0.0253, acc: 98.9453, loss_bbox: 0.0615, loss: 0.0911\n",
      "2024-02-07 18:48:20,097 - mmdet - INFO - Epoch [8][100/113]\tlr: 2.500e-03, eta: 0:01:05, time: 0.128, data_time: 0.008, memory: 2231, loss_rpn_cls: 0.0007, loss_rpn_bbox: 0.0036, loss_cls: 0.0308, acc: 98.7500, loss_bbox: 0.0711, loss: 0.1062\n",
      "2024-02-07 18:48:21,335 - mmdet - INFO - Epoch [8][110/113]\tlr: 2.500e-03, eta: 0:01:04, time: 0.125, data_time: 0.008, memory: 2231, loss_rpn_cls: 0.0016, loss_rpn_bbox: 0.0032, loss_cls: 0.0285, acc: 98.8184, loss_bbox: 0.0629, loss: 0.0961\n",
      "2024-02-07 18:48:21,705 - mmdet - INFO - Saving checkpoint at 8 epochs\n"
     ]
    },
    {
     "name": "stdout",
     "output_type": "stream",
     "text": [
      "[>>>>>>>>>>>>>>>>>>>>>>>>>>>>>>>>] 40/40, 27.9 task/s, elapsed: 1s, ETA:     0s\n",
      "---------------iou_thr: 0.5---------------\n"
     ]
    },
    {
     "name": "stderr",
     "output_type": "stream",
     "text": [
      "2024-02-07 18:48:24,382 - mmdet - INFO - \n",
      "+-------+-----+------+--------+-------+\n",
      "| class | gts | dets | recall | ap    |\n",
      "+-------+-----+------+--------+-------+\n",
      "| UAV   | 40  | 50   | 0.975  | 0.968 |\n",
      "+-------+-----+------+--------+-------+\n",
      "| mAP   |     |      |        | 0.968 |\n",
      "+-------+-----+------+--------+-------+\n",
      "2024-02-07 18:48:24,418 - mmdet - INFO - Epoch(val) [8][40]\tAP50: 0.9680, mAP: 0.9681\n"
     ]
    },
    {
     "name": "stdout",
     "output_type": "stream",
     "text": [
      "\n",
      "---------------iou_thr: 0.5---------------\n"
     ]
    },
    {
     "name": "stderr",
     "output_type": "stream",
     "text": [
      "2024-02-07 18:48:29,542 - mmdet - INFO - Epoch [9][10/113]\tlr: 2.500e-04, eta: 0:01:03, time: 0.329, data_time: 0.211, memory: 2231, loss_rpn_cls: 0.0009, loss_rpn_bbox: 0.0024, loss_cls: 0.0233, acc: 99.0527, loss_bbox: 0.0512, loss: 0.0778\n",
      "2024-02-07 18:48:30,752 - mmdet - INFO - Epoch [9][20/113]\tlr: 2.500e-04, eta: 0:01:01, time: 0.121, data_time: 0.008, memory: 2231, loss_rpn_cls: 0.0007, loss_rpn_bbox: 0.0026, loss_cls: 0.0265, acc: 98.8965, loss_bbox: 0.0588, loss: 0.0885\n",
      "2024-02-07 18:48:32,003 - mmdet - INFO - Epoch [9][30/113]\tlr: 2.500e-04, eta: 0:01:00, time: 0.125, data_time: 0.008, memory: 2231, loss_rpn_cls: 0.0004, loss_rpn_bbox: 0.0031, loss_cls: 0.0251, acc: 98.8867, loss_bbox: 0.0570, loss: 0.0856\n",
      "2024-02-07 18:48:33,266 - mmdet - INFO - Epoch [9][40/113]\tlr: 2.500e-04, eta: 0:00:58, time: 0.126, data_time: 0.009, memory: 2231, loss_rpn_cls: 0.0003, loss_rpn_bbox: 0.0025, loss_cls: 0.0225, acc: 98.9941, loss_bbox: 0.0530, loss: 0.0782\n",
      "2024-02-07 18:48:34,529 - mmdet - INFO - Epoch [9][50/113]\tlr: 2.500e-04, eta: 0:00:57, time: 0.127, data_time: 0.009, memory: 2231, loss_rpn_cls: 0.0004, loss_rpn_bbox: 0.0027, loss_cls: 0.0223, acc: 99.1113, loss_bbox: 0.0500, loss: 0.0753\n",
      "2024-02-07 18:48:35,732 - mmdet - INFO - Epoch [9][60/113]\tlr: 2.500e-04, eta: 0:00:55, time: 0.120, data_time: 0.008, memory: 2231, loss_rpn_cls: 0.0011, loss_rpn_bbox: 0.0030, loss_cls: 0.0263, acc: 99.0332, loss_bbox: 0.0514, loss: 0.0818\n",
      "2024-02-07 18:48:37,008 - mmdet - INFO - Epoch [9][70/113]\tlr: 2.500e-04, eta: 0:00:54, time: 0.128, data_time: 0.009, memory: 2231, loss_rpn_cls: 0.0006, loss_rpn_bbox: 0.0037, loss_cls: 0.0208, acc: 99.1992, loss_bbox: 0.0423, loss: 0.0675\n",
      "2024-02-07 18:48:38,261 - mmdet - INFO - Epoch [9][80/113]\tlr: 2.500e-04, eta: 0:00:52, time: 0.125, data_time: 0.009, memory: 2231, loss_rpn_cls: 0.0011, loss_rpn_bbox: 0.0033, loss_cls: 0.0261, acc: 98.9355, loss_bbox: 0.0563, loss: 0.0868\n",
      "2024-02-07 18:48:39,530 - mmdet - INFO - Epoch [9][90/113]\tlr: 2.500e-04, eta: 0:00:51, time: 0.127, data_time: 0.009, memory: 2231, loss_rpn_cls: 0.0007, loss_rpn_bbox: 0.0027, loss_cls: 0.0270, acc: 98.9355, loss_bbox: 0.0581, loss: 0.0886\n",
      "2024-02-07 18:48:40,787 - mmdet - INFO - Epoch [9][100/113]\tlr: 2.500e-04, eta: 0:00:49, time: 0.126, data_time: 0.008, memory: 2231, loss_rpn_cls: 0.0002, loss_rpn_bbox: 0.0027, loss_cls: 0.0266, acc: 98.8672, loss_bbox: 0.0518, loss: 0.0814\n",
      "2024-02-07 18:48:42,018 - mmdet - INFO - Epoch [9][110/113]\tlr: 2.500e-04, eta: 0:00:48, time: 0.124, data_time: 0.008, memory: 2231, loss_rpn_cls: 0.0003, loss_rpn_bbox: 0.0039, loss_cls: 0.0364, acc: 98.4668, loss_bbox: 0.0755, loss: 0.1161\n",
      "2024-02-07 18:48:42,380 - mmdet - INFO - Saving checkpoint at 9 epochs\n"
     ]
    },
    {
     "name": "stdout",
     "output_type": "stream",
     "text": [
      "[>>>>>>>>>>>>>>>>>>>>>>>>>>>>>>>>] 40/40, 27.6 task/s, elapsed: 1s, ETA:     0s\n",
      "---------------iou_thr: 0.5---------------\n"
     ]
    },
    {
     "name": "stderr",
     "output_type": "stream",
     "text": [
      "2024-02-07 18:48:45,083 - mmdet - INFO - \n",
      "+-------+-----+------+--------+-------+\n",
      "| class | gts | dets | recall | ap    |\n",
      "+-------+-----+------+--------+-------+\n",
      "| UAV   | 40  | 49   | 0.975  | 0.969 |\n",
      "+-------+-----+------+--------+-------+\n",
      "| mAP   |     |      |        | 0.969 |\n",
      "+-------+-----+------+--------+-------+\n",
      "2024-02-07 18:48:45,119 - mmdet - INFO - Epoch(val) [9][40]\tAP50: 0.9690, mAP: 0.9688\n"
     ]
    },
    {
     "name": "stdout",
     "output_type": "stream",
     "text": [
      "\n",
      "---------------iou_thr: 0.5---------------\n"
     ]
    },
    {
     "name": "stderr",
     "output_type": "stream",
     "text": [
      "2024-02-07 18:48:50,735 - mmdet - INFO - Epoch [10][10/113]\tlr: 2.500e-04, eta: 0:00:46, time: 0.327, data_time: 0.210, memory: 2231, loss_rpn_cls: 0.0007, loss_rpn_bbox: 0.0037, loss_cls: 0.0302, acc: 98.8281, loss_bbox: 0.0629, loss: 0.0975\n",
      "2024-02-07 18:48:51,943 - mmdet - INFO - Epoch [10][20/113]\tlr: 2.500e-04, eta: 0:00:45, time: 0.120, data_time: 0.008, memory: 2231, loss_rpn_cls: 0.0003, loss_rpn_bbox: 0.0032, loss_cls: 0.0269, acc: 98.9648, loss_bbox: 0.0550, loss: 0.0853\n",
      "2024-02-07 18:48:53,199 - mmdet - INFO - Epoch [10][30/113]\tlr: 2.500e-04, eta: 0:00:43, time: 0.125, data_time: 0.008, memory: 2231, loss_rpn_cls: 0.0002, loss_rpn_bbox: 0.0030, loss_cls: 0.0199, acc: 99.2383, loss_bbox: 0.0376, loss: 0.0607\n",
      "2024-02-07 18:48:54,488 - mmdet - INFO - Epoch [10][40/113]\tlr: 2.500e-04, eta: 0:00:42, time: 0.129, data_time: 0.009, memory: 2231, loss_rpn_cls: 0.0006, loss_rpn_bbox: 0.0028, loss_cls: 0.0229, acc: 98.9844, loss_bbox: 0.0511, loss: 0.0774\n",
      "2024-02-07 18:48:55,747 - mmdet - INFO - Epoch [10][50/113]\tlr: 2.500e-04, eta: 0:00:40, time: 0.126, data_time: 0.008, memory: 2231, loss_rpn_cls: 0.0002, loss_rpn_bbox: 0.0026, loss_cls: 0.0228, acc: 99.0137, loss_bbox: 0.0482, loss: 0.0738\n",
      "2024-02-07 18:48:56,961 - mmdet - INFO - Epoch [10][60/113]\tlr: 2.500e-04, eta: 0:00:39, time: 0.121, data_time: 0.008, memory: 2231, loss_rpn_cls: 0.0006, loss_rpn_bbox: 0.0028, loss_cls: 0.0257, acc: 98.9062, loss_bbox: 0.0562, loss: 0.0852\n",
      "2024-02-07 18:48:58,265 - mmdet - INFO - Epoch [10][70/113]\tlr: 2.500e-04, eta: 0:00:38, time: 0.131, data_time: 0.009, memory: 2231, loss_rpn_cls: 0.0005, loss_rpn_bbox: 0.0024, loss_cls: 0.0212, acc: 99.1211, loss_bbox: 0.0458, loss: 0.0699\n",
      "2024-02-07 18:48:59,524 - mmdet - INFO - Epoch [10][80/113]\tlr: 2.500e-04, eta: 0:00:36, time: 0.126, data_time: 0.009, memory: 2231, loss_rpn_cls: 0.0004, loss_rpn_bbox: 0.0019, loss_cls: 0.0240, acc: 98.9258, loss_bbox: 0.0509, loss: 0.0771\n",
      "2024-02-07 18:49:00,837 - mmdet - INFO - Epoch [10][90/113]\tlr: 2.500e-04, eta: 0:00:35, time: 0.132, data_time: 0.009, memory: 2231, loss_rpn_cls: 0.0004, loss_rpn_bbox: 0.0025, loss_cls: 0.0222, acc: 99.0918, loss_bbox: 0.0438, loss: 0.0689\n",
      "2024-02-07 18:49:02,114 - mmdet - INFO - Epoch [10][100/113]\tlr: 2.500e-04, eta: 0:00:33, time: 0.128, data_time: 0.008, memory: 2231, loss_rpn_cls: 0.0002, loss_rpn_bbox: 0.0028, loss_cls: 0.0253, acc: 98.9941, loss_bbox: 0.0553, loss: 0.0835\n",
      "2024-02-07 18:49:03,360 - mmdet - INFO - Epoch [10][110/113]\tlr: 2.500e-04, eta: 0:00:32, time: 0.126, data_time: 0.008, memory: 2231, loss_rpn_cls: 0.0016, loss_rpn_bbox: 0.0032, loss_cls: 0.0248, acc: 99.1406, loss_bbox: 0.0476, loss: 0.0771\n",
      "2024-02-07 18:49:03,732 - mmdet - INFO - Saving checkpoint at 10 epochs\n"
     ]
    },
    {
     "name": "stdout",
     "output_type": "stream",
     "text": [
      "[>>>>>>>>>>>>>>>>>>>>>>>>>>>>>>>>] 40/40, 28.0 task/s, elapsed: 1s, ETA:     0s\n",
      "---------------iou_thr: 0.5---------------\n"
     ]
    },
    {
     "name": "stderr",
     "output_type": "stream",
     "text": [
      "2024-02-07 18:49:06,453 - mmdet - INFO - \n",
      "+-------+-----+------+--------+-------+\n",
      "| class | gts | dets | recall | ap    |\n",
      "+-------+-----+------+--------+-------+\n",
      "| UAV   | 40  | 48   | 0.975  | 0.968 |\n",
      "+-------+-----+------+--------+-------+\n",
      "| mAP   |     |      |        | 0.968 |\n",
      "+-------+-----+------+--------+-------+\n",
      "2024-02-07 18:49:06,490 - mmdet - INFO - Epoch(val) [10][40]\tAP50: 0.9680, mAP: 0.9681\n"
     ]
    },
    {
     "name": "stdout",
     "output_type": "stream",
     "text": [
      "\n",
      "---------------iou_thr: 0.5---------------\n"
     ]
    },
    {
     "name": "stderr",
     "output_type": "stream",
     "text": [
      "2024-02-07 18:49:12,259 - mmdet - INFO - Epoch [11][10/113]\tlr: 2.500e-04, eta: 0:00:30, time: 0.328, data_time: 0.210, memory: 2231, loss_rpn_cls: 0.0002, loss_rpn_bbox: 0.0022, loss_cls: 0.0189, acc: 99.2578, loss_bbox: 0.0421, loss: 0.0634\n",
      "2024-02-07 18:49:13,471 - mmdet - INFO - Epoch [11][20/113]\tlr: 2.500e-04, eta: 0:00:29, time: 0.121, data_time: 0.008, memory: 2231, loss_rpn_cls: 0.0014, loss_rpn_bbox: 0.0032, loss_cls: 0.0195, acc: 99.1699, loss_bbox: 0.0432, loss: 0.0673\n",
      "2024-02-07 18:49:14,756 - mmdet - INFO - Epoch [11][30/113]\tlr: 2.500e-04, eta: 0:00:27, time: 0.128, data_time: 0.008, memory: 2231, loss_rpn_cls: 0.0002, loss_rpn_bbox: 0.0025, loss_cls: 0.0268, acc: 98.9844, loss_bbox: 0.0500, loss: 0.0795\n",
      "2024-02-07 18:49:16,040 - mmdet - INFO - Epoch [11][40/113]\tlr: 2.500e-04, eta: 0:00:26, time: 0.128, data_time: 0.009, memory: 2231, loss_rpn_cls: 0.0006, loss_rpn_bbox: 0.0021, loss_cls: 0.0211, acc: 99.1504, loss_bbox: 0.0409, loss: 0.0647\n",
      "2024-02-07 18:49:17,316 - mmdet - INFO - Epoch [11][50/113]\tlr: 2.500e-04, eta: 0:00:24, time: 0.128, data_time: 0.009, memory: 2231, loss_rpn_cls: 0.0017, loss_rpn_bbox: 0.0032, loss_cls: 0.0254, acc: 99.0234, loss_bbox: 0.0524, loss: 0.0827\n",
      "2024-02-07 18:49:18,541 - mmdet - INFO - Epoch [11][60/113]\tlr: 2.500e-04, eta: 0:00:23, time: 0.122, data_time: 0.008, memory: 2231, loss_rpn_cls: 0.0005, loss_rpn_bbox: 0.0021, loss_cls: 0.0237, acc: 99.1211, loss_bbox: 0.0440, loss: 0.0704\n",
      "2024-02-07 18:49:19,816 - mmdet - INFO - Epoch [11][70/113]\tlr: 2.500e-04, eta: 0:00:22, time: 0.128, data_time: 0.009, memory: 2231, loss_rpn_cls: 0.0007, loss_rpn_bbox: 0.0026, loss_cls: 0.0235, acc: 98.9844, loss_bbox: 0.0563, loss: 0.0831\n",
      "2024-02-07 18:49:21,079 - mmdet - INFO - Epoch [11][80/113]\tlr: 2.500e-04, eta: 0:00:20, time: 0.126, data_time: 0.009, memory: 2231, loss_rpn_cls: 0.0009, loss_rpn_bbox: 0.0027, loss_cls: 0.0256, acc: 98.9160, loss_bbox: 0.0478, loss: 0.0770\n",
      "2024-02-07 18:49:22,368 - mmdet - INFO - Epoch [11][90/113]\tlr: 2.500e-04, eta: 0:00:19, time: 0.129, data_time: 0.009, memory: 2231, loss_rpn_cls: 0.0001, loss_rpn_bbox: 0.0021, loss_cls: 0.0195, acc: 99.1602, loss_bbox: 0.0477, loss: 0.0694\n",
      "2024-02-07 18:49:23,633 - mmdet - INFO - Epoch [11][100/113]\tlr: 2.500e-04, eta: 0:00:17, time: 0.127, data_time: 0.008, memory: 2231, loss_rpn_cls: 0.0004, loss_rpn_bbox: 0.0021, loss_cls: 0.0266, acc: 98.9062, loss_bbox: 0.0549, loss: 0.0840\n",
      "2024-02-07 18:49:24,877 - mmdet - INFO - Epoch [11][110/113]\tlr: 2.500e-04, eta: 0:00:16, time: 0.125, data_time: 0.008, memory: 2231, loss_rpn_cls: 0.0005, loss_rpn_bbox: 0.0027, loss_cls: 0.0247, acc: 98.9551, loss_bbox: 0.0497, loss: 0.0776\n",
      "2024-02-07 18:49:25,250 - mmdet - INFO - Saving checkpoint at 11 epochs\n"
     ]
    },
    {
     "name": "stdout",
     "output_type": "stream",
     "text": [
      "[>>>>>>>>>>>>>>>>>>>>>>>>>>>>>>>>] 40/40, 27.9 task/s, elapsed: 1s, ETA:     0s\n",
      "---------------iou_thr: 0.5---------------\n"
     ]
    },
    {
     "name": "stderr",
     "output_type": "stream",
     "text": [
      "2024-02-07 18:49:27,942 - mmdet - INFO - \n",
      "+-------+-----+------+--------+-------+\n",
      "| class | gts | dets | recall | ap    |\n",
      "+-------+-----+------+--------+-------+\n",
      "| UAV   | 40  | 49   | 0.975  | 0.969 |\n",
      "+-------+-----+------+--------+-------+\n",
      "| mAP   |     |      |        | 0.969 |\n",
      "+-------+-----+------+--------+-------+\n",
      "2024-02-07 18:49:27,978 - mmdet - INFO - Epoch(val) [11][40]\tAP50: 0.9690, mAP: 0.9688\n"
     ]
    },
    {
     "name": "stdout",
     "output_type": "stream",
     "text": [
      "\n",
      "---------------iou_thr: 0.5---------------\n"
     ]
    },
    {
     "name": "stderr",
     "output_type": "stream",
     "text": [
      "2024-02-07 18:49:33,138 - mmdet - INFO - Epoch [12][10/113]\tlr: 2.500e-05, eta: 0:00:14, time: 0.328, data_time: 0.210, memory: 2231, loss_rpn_cls: 0.0003, loss_rpn_bbox: 0.0029, loss_cls: 0.0249, acc: 98.9258, loss_bbox: 0.0500, loss: 0.0782\n",
      "2024-02-07 18:49:34,389 - mmdet - INFO - Epoch [12][20/113]\tlr: 2.500e-05, eta: 0:00:13, time: 0.125, data_time: 0.007, memory: 2231, loss_rpn_cls: 0.0002, loss_rpn_bbox: 0.0025, loss_cls: 0.0253, acc: 98.9355, loss_bbox: 0.0489, loss: 0.0770\n",
      "2024-02-07 18:49:35,653 - mmdet - INFO - Epoch [12][30/113]\tlr: 2.500e-05, eta: 0:00:11, time: 0.126, data_time: 0.008, memory: 2231, loss_rpn_cls: 0.0001, loss_rpn_bbox: 0.0018, loss_cls: 0.0219, acc: 99.1309, loss_bbox: 0.0466, loss: 0.0704\n",
      "2024-02-07 18:49:36,981 - mmdet - INFO - Epoch [12][40/113]\tlr: 2.500e-05, eta: 0:00:10, time: 0.133, data_time: 0.009, memory: 2231, loss_rpn_cls: 0.0001, loss_rpn_bbox: 0.0024, loss_cls: 0.0256, acc: 98.9258, loss_bbox: 0.0617, loss: 0.0898\n",
      "2024-02-07 18:49:38,283 - mmdet - INFO - Epoch [12][50/113]\tlr: 2.500e-05, eta: 0:00:08, time: 0.131, data_time: 0.008, memory: 2231, loss_rpn_cls: 0.0003, loss_rpn_bbox: 0.0026, loss_cls: 0.0195, acc: 99.2969, loss_bbox: 0.0448, loss: 0.0672\n",
      "2024-02-07 18:49:39,494 - mmdet - INFO - Epoch [12][60/113]\tlr: 2.500e-05, eta: 0:00:07, time: 0.120, data_time: 0.008, memory: 2231, loss_rpn_cls: 0.0002, loss_rpn_bbox: 0.0019, loss_cls: 0.0244, acc: 99.0723, loss_bbox: 0.0478, loss: 0.0743\n",
      "2024-02-07 18:49:40,765 - mmdet - INFO - Epoch [12][70/113]\tlr: 2.500e-05, eta: 0:00:06, time: 0.127, data_time: 0.009, memory: 2231, loss_rpn_cls: 0.0002, loss_rpn_bbox: 0.0024, loss_cls: 0.0233, acc: 98.9844, loss_bbox: 0.0431, loss: 0.0689\n",
      "2024-02-07 18:49:42,021 - mmdet - INFO - Epoch [12][80/113]\tlr: 2.500e-05, eta: 0:00:04, time: 0.126, data_time: 0.009, memory: 2231, loss_rpn_cls: 0.0003, loss_rpn_bbox: 0.0028, loss_cls: 0.0192, acc: 99.2480, loss_bbox: 0.0415, loss: 0.0639\n",
      "2024-02-07 18:49:43,279 - mmdet - INFO - Epoch [12][90/113]\tlr: 2.500e-05, eta: 0:00:03, time: 0.126, data_time: 0.009, memory: 2231, loss_rpn_cls: 0.0014, loss_rpn_bbox: 0.0022, loss_cls: 0.0214, acc: 99.0820, loss_bbox: 0.0481, loss: 0.0730\n",
      "2024-02-07 18:49:44,543 - mmdet - INFO - Epoch [12][100/113]\tlr: 2.500e-05, eta: 0:00:01, time: 0.127, data_time: 0.008, memory: 2231, loss_rpn_cls: 0.0009, loss_rpn_bbox: 0.0031, loss_cls: 0.0231, acc: 99.1211, loss_bbox: 0.0478, loss: 0.0749\n",
      "2024-02-07 18:49:45,772 - mmdet - INFO - Epoch [12][110/113]\tlr: 2.500e-05, eta: 0:00:00, time: 0.124, data_time: 0.008, memory: 2231, loss_rpn_cls: 0.0010, loss_rpn_bbox: 0.0037, loss_cls: 0.0264, acc: 98.9062, loss_bbox: 0.0594, loss: 0.0906\n",
      "2024-02-07 18:49:46,139 - mmdet - INFO - Saving checkpoint at 12 epochs\n"
     ]
    },
    {
     "name": "stdout",
     "output_type": "stream",
     "text": [
      "[>>>>>>>>>>>>>>>>>>>>>>>>>>>>>>>>] 40/40, 28.0 task/s, elapsed: 1s, ETA:     0s\n",
      "---------------iou_thr: 0.5---------------\n"
     ]
    },
    {
     "name": "stderr",
     "output_type": "stream",
     "text": [
      "2024-02-07 18:49:48,838 - mmdet - INFO - \n",
      "+-------+-----+------+--------+-------+\n",
      "| class | gts | dets | recall | ap    |\n",
      "+-------+-----+------+--------+-------+\n",
      "| UAV   | 40  | 49   | 0.975  | 0.969 |\n",
      "+-------+-----+------+--------+-------+\n",
      "| mAP   |     |      |        | 0.969 |\n",
      "+-------+-----+------+--------+-------+\n",
      "2024-02-07 18:49:48,874 - mmdet - INFO - Epoch(val) [12][40]\tAP50: 0.9690, mAP: 0.9688\n"
     ]
    },
    {
     "name": "stdout",
     "output_type": "stream",
     "text": [
      "\n",
      "---------------iou_thr: 0.5---------------\n"
     ]
    },
    {
     "data": {
      "text/html": [
       "<style>\n",
       "    table.wandb td:nth-child(1) { padding: 0 10px; text-align: left ; width: auto;} td:nth-child(2) {text-align: left ; width: 100%}\n",
       "    .wandb-row { display: flex; flex-direction: row; flex-wrap: wrap; justify-content: flex-start; width: 100% }\n",
       "    .wandb-col { display: flex; flex-direction: column; flex-basis: 100%; flex: 1; padding: 10px; }\n",
       "    </style>\n",
       "<div class=\"wandb-row\"><div class=\"wandb-col\"><h3>Run history:</h3><br/><table class=\"wandb\"><tr><td>learning_rate</td><td>███████████████████████████▂▂▂▂▂▂▂▂▂▂▁▁▁</td></tr><tr><td>momentum</td><td>▁▁▁▁▁▁▁▁▁▁▁▁▁▁▁▁▁▁▁▁▁▁▁▁▁▁▁▁▁▁▁▁▁▁▁▁▁▁▁▁</td></tr><tr><td>train/acc</td><td>▁▄▂▄▄▅▅▆▄▇▆▇▆█▇█▅▇█▇██▆██▅▇██▆▇▇▇▇▇█▇▇▇▇</td></tr><tr><td>train/loss</td><td>█▆▇▆▅▅▄▄▄▃▃▃▃▂▂▂▄▃▂▃▃▂▃▁▂▅▂▁▂▃▃▁▂▂▂▁▂▂▂▂</td></tr><tr><td>train/loss_bbox</td><td>█▆▆▆▄▅▃▄▄▃▂▃▄▂▂▂▄▃▂▄▃▂▂▂▂▆▃▂▂▃▃▂▂▂▂▁▂▂▂▂</td></tr><tr><td>train/loss_cls</td><td>▇▅█▅█▅▅▃▅▂▄▃▃▁▂▂▅▂▁▂▁▂▃▁▁▅▂▁▁▄▃▁▃▂▂▁▃▂▁▂</td></tr><tr><td>train/loss_rpn_bbox</td><td>▃▅█▃▃█▄▄▃▂▄▃▄▂▃▃▃▃▂▃▂▁▄▂▂▇▃▂▇▂▃▂▃▂▂▂▁▂▂▂</td></tr><tr><td>train/loss_rpn_cls</td><td>▆▁▇▁█▂▆▁▁▂▁▁▁▂▁▃▁▁▁▁▁▁▆▁▁▂▁▁▁▁▁▁▁▁▁▁▁▁▁▂</td></tr><tr><td>val/AP50</td><td>██▄▅██▅▁▂▁▂▂</td></tr><tr><td>val/mAP</td><td>██▄▅█▇▅▁▂▁▂▂</td></tr></table><br/></div><div class=\"wandb-col\"><h3>Run summary:</h3><br/><table class=\"wandb\"><tr><td>learning_rate</td><td>3e-05</td></tr><tr><td>momentum</td><td>0.9</td></tr><tr><td>train/acc</td><td>98.92578</td></tr><tr><td>train/loss</td><td>0.07937</td></tr><tr><td>train/loss_bbox</td><td>0.0521</td></tr><tr><td>train/loss_cls</td><td>0.02325</td></tr><tr><td>train/loss_rpn_bbox</td><td>0.00184</td></tr><tr><td>train/loss_rpn_cls</td><td>0.00218</td></tr><tr><td>val/AP50</td><td>0.969</td></tr><tr><td>val/mAP</td><td>0.96875</td></tr></table><br/></div></div>"
      ],
      "text/plain": [
       "<IPython.core.display.HTML object>"
      ]
     },
     "metadata": {},
     "output_type": "display_data"
    },
    {
     "data": {
      "text/html": [
       " View run <strong style=\"color:#cdcd00\">glowing-spaceship-1</strong> at: <a href='https://wandb.ai/juliangeralddcruz/MMDetection-UAV/runs/emofibfe' target=\"_blank\">https://wandb.ai/juliangeralddcruz/MMDetection-UAV/runs/emofibfe</a><br/> View job at <a href='https://wandb.ai/juliangeralddcruz/MMDetection-UAV/jobs/QXJ0aWZhY3RDb2xsZWN0aW9uOjEzNzg1ODY0Nw==/version_details/v0' target=\"_blank\">https://wandb.ai/juliangeralddcruz/MMDetection-UAV/jobs/QXJ0aWZhY3RDb2xsZWN0aW9uOjEzNzg1ODY0Nw==/version_details/v0</a><br/>Synced 6 W&B file(s), 0 media file(s), 35 artifact file(s) and 0 other file(s)"
      ],
      "text/plain": [
       "<IPython.core.display.HTML object>"
      ]
     },
     "metadata": {},
     "output_type": "display_data"
    },
    {
     "data": {
      "text/html": [
       "Find logs at: <code>./wandb/run-20240207_184524-emofibfe/logs</code>"
      ],
      "text/plain": [
       "<IPython.core.display.HTML object>"
      ]
     },
     "metadata": {},
     "output_type": "display_data"
    }
   ],
   "source": [
    "# Create work_dir\n",
    "# mmcv.mkdir_or_exist(osp.abspath(cfg.work_dir))\n",
    "train_detector(model, datasets, cfg, distributed=False, validate=True)"
   ]
  },
  {
   "cell_type": "markdown",
   "metadata": {},
   "source": [
    "### 4️⃣ Notes on using `MMDetWandbHook`. \n",
    "\n",
    "Using `MMDetWandbHook` is easy and in most cases it will throw friendly `UserWarning` if something is not quite right. However in the best interest, here are some of things and best practices you should keep in mind:\n",
    "\n",
    "* The `MMDetWandbHook` depends on `CheckpointHook` for logging the checkpoints as W&B Artifacts and `EvalHook`/`DistEvalHook` for logging validation data and model predictions. If anyone or both aren't available, this hook will give `UserWarning` and not cause any error. \n",
    "\n",
    "* The priority of both `CheckpointHook` and `EvalHook`/`DistEvalHook` should be more than `MMDetWandbHook`. \n",
    "\n",
    "* The validation data is logged once as `val_data` W&B Table. The evaluation tables, use reference to this data thus you will not be uploading the same data multiple times. \n",
    "\n",
    "* If you want to log the configuration to W&B, pass this key-value pair `'config': cfg._cfg_dict.to_dict()` to `init_kwargs`. "
   ]
  }
 ],
 "metadata": {
  "accelerator": "GPU",
  "colab": {
   "include_colab_link": true,
   "provenance": [],
   "toc_visible": true
  },
  "kernelspec": {
   "display_name": "mmdetection",
   "language": "python",
   "name": "mmdetection"
  },
  "language_info": {
   "codemirror_mode": {
    "name": "ipython",
    "version": 3
   },
   "file_extension": ".py",
   "mimetype": "text/x-python",
   "name": "python",
   "nbconvert_exporter": "python",
   "pygments_lexer": "ipython3",
   "version": "3.8.16"
  }
 },
 "nbformat": 4,
 "nbformat_minor": 4
}
